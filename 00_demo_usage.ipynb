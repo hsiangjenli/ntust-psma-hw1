{
 "cells": [
  {
   "attachments": {},
   "cell_type": "markdown",
   "metadata": {},
   "source": [
    "# **Demo Usage**"
   ]
  },
  {
   "attachments": {},
   "cell_type": "markdown",
   "metadata": {},
   "source": [
    "## **Import Data**"
   ]
  },
  {
   "cell_type": "code",
   "execution_count": 1,
   "metadata": {},
   "outputs": [],
   "source": [
    "import pandas as pd\n",
    "\n",
    "df = pd.read_csv('Data/new_train_data.csv')"
   ]
  },
  {
   "attachments": {},
   "cell_type": "markdown",
   "metadata": {},
   "source": [
    "## **Create Graph**"
   ]
  },
  {
   "cell_type": "code",
   "execution_count": 2,
   "metadata": {},
   "outputs": [],
   "source": [
    "from core import Graph\n",
    "\n",
    "g = Graph()\n",
    "\n",
    "for _, row in df[df.label==1].iterrows():\n",
    "    g.add_edge(row['node1'], row['node2'])"
   ]
  },
  {
   "attachments": {},
   "cell_type": "markdown",
   "metadata": {},
   "source": [
    "### **Graph.Attributes**"
   ]
  },
  {
   "cell_type": "code",
   "execution_count": 3,
   "metadata": {},
   "outputs": [
    {
     "data": {
      "text/plain": [
       "[32770, 32772, 32775, 32777, 32778, 32788, 32790, 32791, 32792, 32797]"
      ]
     },
     "execution_count": 3,
     "metadata": {},
     "output_type": "execute_result"
    }
   ],
   "source": [
    "# Node 1 & Node 2 的節點\n",
    "g.get_nodes[:10]"
   ]
  },
  {
   "cell_type": "code",
   "execution_count": 4,
   "metadata": {},
   "outputs": [
    {
     "data": {
      "text/plain": [
       "2.1417097983223274"
      ]
     },
     "execution_count": 4,
     "metadata": {},
     "output_type": "execute_result"
    }
   ],
   "source": [
    "# 計算 node1 的平均 degree (neighbor size)\n",
    "g.get_average_degree"
   ]
  },
  {
   "attachments": {},
   "cell_type": "markdown",
   "metadata": {},
   "source": [
    "### **Graph.function**"
   ]
  },
  {
   "attachments": {},
   "cell_type": "markdown",
   "metadata": {},
   "source": [
    "#### **jaccard_coefficient**"
   ]
  },
  {
   "cell_type": "code",
   "execution_count": 5,
   "metadata": {},
   "outputs": [
    {
     "data": {
      "text/plain": [
       "0.07692307692307693"
      ]
     },
     "execution_count": 5,
     "metadata": {},
     "output_type": "execute_result"
    }
   ],
   "source": [
    "# If node exists\n",
    "g.jaccard_coefficient(node1=38679, node2=38790)"
   ]
  },
  {
   "cell_type": "code",
   "execution_count": 6,
   "metadata": {},
   "outputs": [
    {
     "name": "stderr",
     "output_type": "stream",
     "text": [
      "c:\\Users\\ASUS\\Documents\\NTUST\\SMA\\HW01\\core\\base.py:14: UserWarning: func(jaccard_coefficient): The node 1000000000000000000 does not exist.\n",
      "  warnings.warn(f\"func({func.__name__}): The node {e} does not exist.\")\n"
     ]
    },
    {
     "data": {
      "text/plain": [
       "-1"
      ]
     },
     "execution_count": 6,
     "metadata": {},
     "output_type": "execute_result"
    }
   ],
   "source": [
    "# Node does not exist\n",
    "g.jaccard_coefficient(node1=38679, node2=1000000000000000000)"
   ]
  },
  {
   "attachments": {},
   "cell_type": "markdown",
   "metadata": {},
   "source": [
    "#### **common_neighbors**"
   ]
  },
  {
   "cell_type": "code",
   "execution_count": 7,
   "metadata": {},
   "outputs": [
    {
     "data": {
      "text/plain": [
       "4"
      ]
     },
     "execution_count": 7,
     "metadata": {},
     "output_type": "execute_result"
    }
   ],
   "source": [
    "g.common_neighbors(node1=32125, node2=38048)"
   ]
  },
  {
   "cell_type": "code",
   "execution_count": 8,
   "metadata": {},
   "outputs": [
    {
     "name": "stderr",
     "output_type": "stream",
     "text": [
      "c:\\Users\\ASUS\\Documents\\NTUST\\SMA\\HW01\\core\\score_func.py:27: UserWarning: func(common_neighbors): The two nodes are the same.\n",
      "  warnings.warn(\"func(common_neighbors): The two nodes are the same.\")\n"
     ]
    },
    {
     "data": {
      "text/plain": [
       "-2"
      ]
     },
     "execution_count": 8,
     "metadata": {},
     "output_type": "execute_result"
    }
   ],
   "source": [
    "g.common_neighbors(node1=32125, node2=32125)"
   ]
  },
  {
   "cell_type": "code",
   "execution_count": null,
   "metadata": {},
   "outputs": [],
   "source": []
  },
  {
   "cell_type": "code",
   "execution_count": null,
   "metadata": {},
   "outputs": [],
   "source": []
  },
  {
   "cell_type": "code",
   "execution_count": 7,
   "metadata": {},
   "outputs": [
    {
     "name": "stdout",
     "output_type": "stream",
     "text": [
      "[1, 2, 3, 4]\n",
      "2.0\n",
      "[2, 3]\n",
      "2\n",
      "{1: [2, 3], 2: [3, 4]}\n"
     ]
    }
   ],
   "source": [
    "from core import Graph\n",
    "graph = Graph()\n",
    "\n",
    "graph.add_edge(1, 2)\n",
    "graph.add_edge(1, 3)\n",
    "\n",
    "graph.add_edge(2, 3)\n",
    "graph.add_edge(2, 4)\n",
    "\n",
    "print(graph.get_nodes)\n",
    "print(graph.get_average_degree)\n",
    "print(graph.get_neighbors(1))\n",
    "print(graph.get_neighbors_size(1))\n",
    "print(graph.edges)"
   ]
  },
  {
   "cell_type": "code",
   "execution_count": 8,
   "metadata": {},
   "outputs": [
    {
     "name": "stdout",
     "output_type": "stream",
     "text": [
      "1\n"
     ]
    }
   ],
   "source": [
    "print(graph.common_neighbors(1, 2))"
   ]
  },
  {
   "cell_type": "code",
   "execution_count": 9,
   "metadata": {},
   "outputs": [
    {
     "name": "stdout",
     "output_type": "stream",
     "text": [
      "-1\n"
     ]
    },
    {
     "name": "stderr",
     "output_type": "stream",
     "text": [
      "c:\\Users\\ASUS\\Documents\\NTUST\\SMA\\HW01\\core\\base.py:14: UserWarning: func(get_neighbors_size): The node 3 does not exist.\n",
      "  warnings.warn(f\"func({func.__name__}): The node {e} does not exist.\")\n",
      "c:\\Users\\ASUS\\Documents\\NTUST\\SMA\\HW01\\core\\base.py:14: UserWarning: func(adamic_adar): The node math domain error does not exist.\n",
      "  warnings.warn(f\"func({func.__name__}): The node {e} does not exist.\")\n"
     ]
    }
   ],
   "source": [
    "print(graph.adamic_adar(1, 2))"
   ]
  },
  {
   "cell_type": "code",
   "execution_count": 4,
   "metadata": {},
   "outputs": [
    {
     "name": "stdout",
     "output_type": "stream",
     "text": [
      "10\n"
     ]
    }
   ],
   "source": [
    "from core import Graph\n",
    "\n",
    "graph = Graph()\n",
    "\n",
    "graph.add_edge(1, 2)\n",
    "graph.add_edge(1, 4)\n",
    "graph.add_edge(4, 3)\n",
    "graph.add_edge(4, 2)\n",
    "\n",
    "print(graph.preferential_attachment(5, 4))"
   ]
  },
  {
   "cell_type": "code",
   "execution_count": 2,
   "metadata": {},
   "outputs": [
    {
     "name": "stdout",
     "output_type": "stream",
     "text": [
      "-1\n"
     ]
    },
    {
     "name": "stderr",
     "output_type": "stream",
     "text": [
      "c:\\Users\\ASUS\\Documents\\NTUST\\SMA\\HW01\\core\\base.py:14: UserWarning: func(get_neighbors_size): The node 5 does not exist.\n",
      "  warnings.warn(f\"func({func.__name__}): The node {e} does not exist.\")\n"
     ]
    }
   ],
   "source": [
    "print(graph.get_neighbors_size(5))"
   ]
  },
  {
   "cell_type": "code",
   "execution_count": 3,
   "metadata": {},
   "outputs": [
    {
     "name": "stdout",
     "output_type": "stream",
     "text": [
      "2\n"
     ]
    }
   ],
   "source": [
    "print(graph.get_neighbors_size(4))"
   ]
  },
  {
   "cell_type": "code",
   "execution_count": 1,
   "metadata": {},
   "outputs": [],
   "source": [
    "from core import RandomWalk\n",
    "from core import Graph\n",
    "\n",
    "graph = Graph()\n",
    "graph.add_edge(1, 2)\n",
    "graph.add_edge(1, 3)\n",
    "graph.add_edge(1, 4)\n",
    "graph.add_edge(2, 1)\n",
    "graph.add_edge(2, 3)\n",
    "graph.add_edge(2, 4)\n",
    "graph.add_edge(3, 1)\n",
    "\n",
    "sparsified_graph = RandomWalk.fit(graph=graph, node1_dropout=0.1, neighbor_dropout=0.1)"
   ]
  },
  {
   "cell_type": "code",
   "execution_count": 3,
   "metadata": {},
   "outputs": [
    {
     "data": {
      "text/plain": [
       "{1: [3, 4], 2: [3, 4], 3: [1]}"
      ]
     },
     "execution_count": 3,
     "metadata": {},
     "output_type": "execute_result"
    }
   ],
   "source": [
    "sparsified_graph.edges"
   ]
  },
  {
   "cell_type": "code",
   "execution_count": 11,
   "metadata": {},
   "outputs": [
    {
     "name": "stdout",
     "output_type": "stream",
     "text": [
      "{1: [2], 2: [1]}\n"
     ]
    }
   ],
   "source": [
    "from core import DegreeBased\n",
    "from core import Graph\n",
    "\n",
    "graph = Graph()\n",
    "graph.add_edge(1, 2)\n",
    "graph.add_edge(1, 3)\n",
    "graph.add_edge(1, 4)\n",
    "graph.add_edge(2, 1)\n",
    "graph.add_edge(2, 3)\n",
    "graph.add_edge(2, 4)\n",
    "graph.add_edge(2, 5)\n",
    "graph.add_edge(3, 1)\n",
    "\n",
    "sparsified_graph = DegreeBased(graph=graph, degree=1).fit()\n",
    "print(sparsified_graph.edges)"
   ]
  },
  {
   "cell_type": "code",
   "execution_count": null,
   "metadata": {},
   "outputs": [],
   "source": []
  }
 ],
 "metadata": {
  "kernelspec": {
   "display_name": "base",
   "language": "python",
   "name": "python3"
  },
  "language_info": {
   "codemirror_mode": {
    "name": "ipython",
    "version": 3
   },
   "file_extension": ".py",
   "mimetype": "text/x-python",
   "name": "python",
   "nbconvert_exporter": "python",
   "pygments_lexer": "ipython3",
   "version": "3.9.13"
  },
  "orig_nbformat": 4
 },
 "nbformat": 4,
 "nbformat_minor": 2
}
