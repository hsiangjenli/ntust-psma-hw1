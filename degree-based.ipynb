{
 "cells": [
  {
   "cell_type": "code",
   "execution_count": 18,
   "metadata": {},
   "outputs": [],
   "source": [
    "def cal_func_score(df, graph_data, direction='out', name=''):\n",
    "\n",
    "    print(f'Calculating {name} features...')\n",
    "    \n",
    "    if direction == 'out' or direction == 'all':\n",
    "        node1 = 'node1'\n",
    "        node2 = 'node2'\n",
    "    \n",
    "    elif direction == 'in':\n",
    "        node1 = 'node2'\n",
    "        node2 = 'node1'\n",
    "\n",
    "    ts = datetime.datetime.now().timestamp()\n",
    "\n",
    "    df[f'node1_{direction}_{name}'] = df['node1'].apply(lambda node: graph_data.get_neighbors_size(node))\n",
    "    df[f'node_cn_{direction}_{name}'] = df.apply(lambda row: graph_data.common_neighbors(row[node1], row[node2]), axis=1)\n",
    "    df[f'node_jc_{direction}_{name}'] = df.apply(lambda row: graph_data.jaccard_coefficient(row[node1], row[node2]), axis=1)\n",
    "    # df[f'node_aa_{direction}'] = graph_data.apply(lambda row: graph_out.adamic_adar(row[node1], row[node1]), axis=1)\n",
    "    df[f'node_pa_{direction}_{name}'] = df.apply(lambda row: graph_data.preferential_attachment(row[node1], row[node2]), axis=1)\n",
    "    # df[f'node_sp_{direction}'] = df.apply(lambda row: graph_data.shortest_path(row[node1], row[node2]), axis=1)\n",
    "    return df\n",
    "\n",
    "def cal_func_score_in_out_all(df, graph_out, graph_in, graph_all):\n",
    "    df_out = cal_func_score(df, graph_out, direction='out')\n",
    "    df_in = cal_func_score(df, graph_in, direction='in')\n",
    "    df_all = cal_func_score(df, graph_all, direction='all')\n",
    "    return pd.concat([df_out, df_in, df_all], axis=1)\n",
    "\n",
    "def generate_graph(df):\n",
    "    \n",
    "    graph_out = Graph()\n",
    "    graph_in = Graph()\n",
    "    graph_all = Graph()\n",
    "    \n",
    "    for _, row in df.iterrows():\n",
    "        graph_out.add_edge(row['node1'], row['node2'])\n",
    "        graph_in.add_edge(row['node2'], row['node1'])\n",
    "        graph_all.add_edge(row['node1'], row['node2'])\n",
    "        graph_all.add_edge(row['node2'], row['node1'])\n",
    "    \n",
    "    return graph_out, graph_in, graph_all"
   ]
  },
  {
   "cell_type": "code",
   "execution_count": 19,
   "metadata": {},
   "outputs": [],
   "source": [
    "import pandas as pd\n",
    "import warnings\n",
    "import datetime\n",
    "\n",
    "warnings.filterwarnings(\"ignore\")\n",
    "\n",
    "train = pd.read_csv(r'Data/new_train_data.csv', dtype = {'node1': 'int32', 'node2': 'int32', 'label': 'int32'})\n",
    "test = pd.read_csv(r'Data/new_test_data.csv', dtype = {'node1': 'int32', 'node2': 'int32'})\n",
    "\n",
    "train = train[train.node1 != train.node2]"
   ]
  },
  {
   "cell_type": "code",
   "execution_count": 20,
   "metadata": {},
   "outputs": [],
   "source": [
    "from core import Graph\n",
    "from core import DegreeBased\n",
    "import operator\n",
    "\n",
    "graph_out, graph_in, graph_all = generate_graph(train[train['label'] == 1])"
   ]
  },
  {
   "cell_type": "code",
   "execution_count": 32,
   "metadata": {},
   "outputs": [
    {
     "name": "stdout",
     "output_type": "stream",
     "text": [
      "Calculating out_1_le features...\n",
      "Calculating out_1_le features...\n",
      "Calculating in_1_le features...\n",
      "Calculating in_1_le features...\n",
      "Calculating all_1_le features...\n",
      "Calculating all_1_le features...\n",
      "Calculating out_2_le features...\n",
      "Calculating out_2_le features...\n",
      "Calculating in_2_le features...\n",
      "Calculating in_2_le features...\n",
      "Calculating all_2_le features...\n",
      "Calculating all_2_le features...\n",
      "Calculating out_1_ge features...\n",
      "Calculating out_1_ge features...\n",
      "Calculating in_1_ge features...\n",
      "Calculating in_1_ge features...\n",
      "Calculating all_1_ge features...\n",
      "Calculating all_1_ge features...\n",
      "Calculating out_2_ge features...\n",
      "Calculating out_2_ge features...\n",
      "Calculating in_2_ge features...\n",
      "Calculating in_2_ge features...\n",
      "Calculating all_2_ge features...\n",
      "Calculating all_2_ge features...\n",
      "Calculating out_1_eq features...\n",
      "Calculating out_1_eq features...\n",
      "Calculating in_1_eq features...\n",
      "Calculating in_1_eq features...\n",
      "Calculating all_1_eq features...\n",
      "Calculating all_1_eq features...\n",
      "Calculating out_2_eq features...\n",
      "Calculating out_2_eq features...\n",
      "Calculating in_2_eq features...\n",
      "Calculating in_2_eq features...\n",
      "Calculating all_2_eq features...\n",
      "Calculating all_2_eq features...\n",
      "Calculating out_1_ne features...\n",
      "Calculating out_1_ne features...\n",
      "Calculating in_1_ne features...\n",
      "Calculating in_1_ne features...\n",
      "Calculating all_1_ne features...\n",
      "Calculating all_1_ne features...\n",
      "Calculating out_2_ne features...\n",
      "Calculating out_2_ne features...\n",
      "Calculating in_2_ne features...\n",
      "Calculating in_2_ne features...\n",
      "Calculating all_2_ne features...\n",
      "Calculating all_2_ne features...\n"
     ]
    }
   ],
   "source": [
    "import numpy as np\n",
    "import itertools\n",
    "\n",
    "operations = [operator.le, operator.ge, operator.eq, operator.ne]\n",
    "# degrees = [1, 2, 3, 4, 5, 6, 7]\n",
    "degrees = [1, 2]\n",
    "graphs = [(graph_out, 'out'), (graph_in, 'in'), (graph_all, 'all')]\n",
    "\n",
    "combinations = list(itertools.product(operations,degrees,graphs))\n",
    "\n",
    "sparsified_train_df = train.copy()\n",
    "sparsified_test_df = test.copy()\n",
    "\n",
    "for op, de, ga in combinations:\n",
    "    g, dir = ga[0], ga[1]\n",
    "    sg = DegreeBased(graph=g, degree=de, operation=op).fit()\n",
    "    sparsified_train_df.merge(cal_func_score(train, g, dir, name=f'{dir}_{de}_{op.__name__}'), on=['node1', 'node2'])\n",
    "    sparsified_test_df.merge(cal_func_score(test, g, dir, name=f'{dir}_{de}_{op.__name__}'), on=['node1', 'node2'])"
   ]
  },
  {
   "cell_type": "code",
   "execution_count": 33,
   "metadata": {},
   "outputs": [],
   "source": [
    "x_col = sparsified_train_df.columns.to_list()\n",
    "x_col.remove('node1')\n",
    "x_col.remove('node2')\n",
    "x_col.remove('label')\n",
    "\n",
    "y_col = 'label'"
   ]
  },
  {
   "cell_type": "code",
   "execution_count": 40,
   "metadata": {},
   "outputs": [],
   "source": [
    "X_train = sparsified_train_df[x_col]\n",
    "y_train = sparsified_train_df[y_col]\n",
    "\n",
    "X_test = sparsified_test_df[x_col]"
   ]
  },
  {
   "cell_type": "code",
   "execution_count": 45,
   "metadata": {},
   "outputs": [
    {
     "data": {
      "text/html": [
       "<style>#sk-container-id-2 {color: black;background-color: white;}#sk-container-id-2 pre{padding: 0;}#sk-container-id-2 div.sk-toggleable {background-color: white;}#sk-container-id-2 label.sk-toggleable__label {cursor: pointer;display: block;width: 100%;margin-bottom: 0;padding: 0.3em;box-sizing: border-box;text-align: center;}#sk-container-id-2 label.sk-toggleable__label-arrow:before {content: \"▸\";float: left;margin-right: 0.25em;color: #696969;}#sk-container-id-2 label.sk-toggleable__label-arrow:hover:before {color: black;}#sk-container-id-2 div.sk-estimator:hover label.sk-toggleable__label-arrow:before {color: black;}#sk-container-id-2 div.sk-toggleable__content {max-height: 0;max-width: 0;overflow: hidden;text-align: left;background-color: #f0f8ff;}#sk-container-id-2 div.sk-toggleable__content pre {margin: 0.2em;color: black;border-radius: 0.25em;background-color: #f0f8ff;}#sk-container-id-2 input.sk-toggleable__control:checked~div.sk-toggleable__content {max-height: 200px;max-width: 100%;overflow: auto;}#sk-container-id-2 input.sk-toggleable__control:checked~label.sk-toggleable__label-arrow:before {content: \"▾\";}#sk-container-id-2 div.sk-estimator input.sk-toggleable__control:checked~label.sk-toggleable__label {background-color: #d4ebff;}#sk-container-id-2 div.sk-label input.sk-toggleable__control:checked~label.sk-toggleable__label {background-color: #d4ebff;}#sk-container-id-2 input.sk-hidden--visually {border: 0;clip: rect(1px 1px 1px 1px);clip: rect(1px, 1px, 1px, 1px);height: 1px;margin: -1px;overflow: hidden;padding: 0;position: absolute;width: 1px;}#sk-container-id-2 div.sk-estimator {font-family: monospace;background-color: #f0f8ff;border: 1px dotted black;border-radius: 0.25em;box-sizing: border-box;margin-bottom: 0.5em;}#sk-container-id-2 div.sk-estimator:hover {background-color: #d4ebff;}#sk-container-id-2 div.sk-parallel-item::after {content: \"\";width: 100%;border-bottom: 1px solid gray;flex-grow: 1;}#sk-container-id-2 div.sk-label:hover label.sk-toggleable__label {background-color: #d4ebff;}#sk-container-id-2 div.sk-serial::before {content: \"\";position: absolute;border-left: 1px solid gray;box-sizing: border-box;top: 0;bottom: 0;left: 50%;z-index: 0;}#sk-container-id-2 div.sk-serial {display: flex;flex-direction: column;align-items: center;background-color: white;padding-right: 0.2em;padding-left: 0.2em;position: relative;}#sk-container-id-2 div.sk-item {position: relative;z-index: 1;}#sk-container-id-2 div.sk-parallel {display: flex;align-items: stretch;justify-content: center;background-color: white;position: relative;}#sk-container-id-2 div.sk-item::before, #sk-container-id-2 div.sk-parallel-item::before {content: \"\";position: absolute;border-left: 1px solid gray;box-sizing: border-box;top: 0;bottom: 0;left: 50%;z-index: -1;}#sk-container-id-2 div.sk-parallel-item {display: flex;flex-direction: column;z-index: 1;position: relative;background-color: white;}#sk-container-id-2 div.sk-parallel-item:first-child::after {align-self: flex-end;width: 50%;}#sk-container-id-2 div.sk-parallel-item:last-child::after {align-self: flex-start;width: 50%;}#sk-container-id-2 div.sk-parallel-item:only-child::after {width: 0;}#sk-container-id-2 div.sk-dashed-wrapped {border: 1px dashed gray;margin: 0 0.4em 0.5em 0.4em;box-sizing: border-box;padding-bottom: 0.4em;background-color: white;}#sk-container-id-2 div.sk-label label {font-family: monospace;font-weight: bold;display: inline-block;line-height: 1.2em;}#sk-container-id-2 div.sk-label-container {text-align: center;}#sk-container-id-2 div.sk-container {/* jupyter's `normalize.less` sets `[hidden] { display: none; }` but bootstrap.min.css set `[hidden] { display: none !important; }` so we also need the `!important` here to be able to override the default hidden behavior on the sphinx rendered scikit-learn.org. See: https://github.com/scikit-learn/scikit-learn/issues/21755 */display: inline-block !important;position: relative;}#sk-container-id-2 div.sk-text-repr-fallback {display: none;}</style><div id=\"sk-container-id-2\" class=\"sk-top-container\"><div class=\"sk-text-repr-fallback\"><pre>RandomForestClassifier(max_depth=20, n_estimators=500, random_state=0)</pre><b>In a Jupyter environment, please rerun this cell to show the HTML representation or trust the notebook. <br />On GitHub, the HTML representation is unable to render, please try loading this page with nbviewer.org.</b></div><div class=\"sk-container\" hidden><div class=\"sk-item\"><div class=\"sk-estimator sk-toggleable\"><input class=\"sk-toggleable__control sk-hidden--visually\" id=\"sk-estimator-id-2\" type=\"checkbox\" checked><label for=\"sk-estimator-id-2\" class=\"sk-toggleable__label sk-toggleable__label-arrow\">RandomForestClassifier</label><div class=\"sk-toggleable__content\"><pre>RandomForestClassifier(max_depth=20, n_estimators=500, random_state=0)</pre></div></div></div></div></div>"
      ],
      "text/plain": [
       "RandomForestClassifier(max_depth=20, n_estimators=500, random_state=0)"
      ]
     },
     "execution_count": 45,
     "metadata": {},
     "output_type": "execute_result"
    }
   ],
   "source": [
    "from sklearn.ensemble import RandomForestClassifier\n",
    "\n",
    "rf = RandomForestClassifier(n_estimators=500, max_depth=20, random_state=0)\n",
    "rf.fit(X_train, y_train)"
   ]
  },
  {
   "cell_type": "code",
   "execution_count": null,
   "metadata": {},
   "outputs": [],
   "source": []
  }
 ],
 "metadata": {
  "kernelspec": {
   "display_name": "base",
   "language": "python",
   "name": "python3"
  },
  "language_info": {
   "codemirror_mode": {
    "name": "ipython",
    "version": 3
   },
   "file_extension": ".py",
   "mimetype": "text/x-python",
   "name": "python",
   "nbconvert_exporter": "python",
   "pygments_lexer": "ipython3",
   "version": "3.9.13"
  },
  "orig_nbformat": 4
 },
 "nbformat": 4,
 "nbformat_minor": 2
}
