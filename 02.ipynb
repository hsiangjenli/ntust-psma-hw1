{
 "cells": [
  {
   "cell_type": "code",
   "execution_count": null,
   "metadata": {},
   "outputs": [],
   "source": [
    "import pandas as pd\n",
    "\n",
    "train = pd.read_csv(r'Data/new_train_data.csv', dtype = {'node1': int, 'node2': int, 'label': int})\n",
    "test = pd.read_csv(r'Data/new_test_data.csv', dtype = {'node1': int, 'node2': int})"
   ]
  },
  {
   "cell_type": "code",
   "execution_count": null,
   "metadata": {},
   "outputs": [],
   "source": [
    "from core import Graph\n",
    "\n",
    "graph = Graph()\n",
    "\n",
    "for _, row in train[train['label'] == 1].iterrows():\n",
    "    graph.add_edge(row['node1'], row['node2'])"
   ]
  },
  {
   "cell_type": "code",
   "execution_count": null,
   "metadata": {},
   "outputs": [],
   "source": [
    "def neighbors(node):\n",
    "    return graph.get_neighbor_size(node)\n",
    "\n",
    "def common_neighbors(row):\n",
    "    return graph.common_neighbors(row['node1'], row['node2'])\n",
    "\n",
    "def jaccard_coefficient(row):\n",
    "    return graph.jaccard_coefficient(row['node1'], row['node2'])\n",
    "\n",
    "def adamic_adar(row):\n",
    "    return graph.adamic_adar(row['node1'], row['node2'])"
   ]
  },
  {
   "cell_type": "code",
   "execution_count": null,
   "metadata": {},
   "outputs": [],
   "source": [
    "def cal_func_score(df: pd.DataFrame):\n",
    "    \n",
    "    df['node1_neighbors'] = df['node1'].apply(neighbors)\n",
    "    df['node2_neighbors'] = df['node2'].apply(neighbors)\n",
    "    df['common_neighbors'] = df.apply(common_neighbors, axis = 1)\n",
    "    df['jaccard_coefficient'] = df.apply(jaccard_coefficient, axis = 1)\n",
    "    df['adamic_adar'] = df.apply(adamic_adar, axis = 1)\n",
    "    \n",
    "    return df"
   ]
  },
  {
   "cell_type": "code",
   "execution_count": null,
   "metadata": {},
   "outputs": [],
   "source": [
    "train = cal_func_score(train)\n",
    "test = cal_func_score(test)"
   ]
  },
  {
   "cell_type": "code",
   "execution_count": null,
   "metadata": {},
   "outputs": [],
   "source": [
    "x_col = ['node1_neighbors', 'node2_neighbors', 'common_neighbors', 'jaccard_coefficient', 'adamic_adar']\n",
    "y_col = 'label'"
   ]
  },
  {
   "cell_type": "code",
   "execution_count": null,
   "metadata": {},
   "outputs": [],
   "source": [
    "from sklearn.ensemble import RandomForestClassifier\n",
    "from xgboost import XGBClassifier\n",
    "from sklearn.linear_model import LogisticRegression\n",
    "\n",
    "rfc = RandomForestClassifier(n_estimators=5, max_depth=1, random_state=0)\n",
    "rfc.fit(train[x_col], train[y_col])\n",
    "\n",
    "xgb = XGBClassifier(n_estimators=5, max_depth=5, random_state=0)\n",
    "xgb.fit(train[x_col], train[y_col])\n",
    "\n",
    "lr = LogisticRegression(random_state=0)\n",
    "lr.fit(train[x_col], train[y_col])"
   ]
  },
  {
   "cell_type": "code",
   "execution_count": null,
   "metadata": {},
   "outputs": [],
   "source": [
    "s = pd.DataFrame(\n",
    "    {\n",
    "        \"rfc\": rfc.predict(test[x_col]),\n",
    "        \"xgb\": xgb.predict(test[x_col]),\n",
    "        \"lr\": lr.predict(test[x_col])\n",
    "    }\n",
    ")"
   ]
  },
  {
   "cell_type": "code",
   "execution_count": null,
   "metadata": {},
   "outputs": [],
   "source": [
    "s.rfc.value_counts(), s.xgb.value_counts(), s.lr.value_counts()"
   ]
  },
  {
   "cell_type": "code",
   "execution_count": null,
   "metadata": {},
   "outputs": [],
   "source": [
    "s[s.rfc != s.xgb]"
   ]
  },
  {
   "cell_type": "code",
   "execution_count": null,
   "metadata": {},
   "outputs": [],
   "source": [
    "s[s.rfc != s.lr]"
   ]
  },
  {
   "cell_type": "code",
   "execution_count": null,
   "metadata": {},
   "outputs": [],
   "source": [
    "s[s.xgb != s.lr]"
   ]
  },
  {
   "cell_type": "code",
   "execution_count": null,
   "metadata": {},
   "outputs": [],
   "source": []
  },
  {
   "cell_type": "code",
   "execution_count": null,
   "metadata": {},
   "outputs": [],
   "source": []
  }
 ],
 "metadata": {
  "kernelspec": {
   "display_name": "base",
   "language": "python",
   "name": "python3"
  },
  "language_info": {
   "codemirror_mode": {
    "name": "ipython",
    "version": 3
   },
   "file_extension": ".py",
   "mimetype": "text/x-python",
   "name": "python",
   "nbconvert_exporter": "python",
   "pygments_lexer": "ipython3",
   "version": "3.9.13"
  },
  "orig_nbformat": 4
 },
 "nbformat": 4,
 "nbformat_minor": 2
}
